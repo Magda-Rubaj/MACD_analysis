{
 "cells": [
  {
   "cell_type": "code",
   "execution_count": null,
   "id": "curious-darwin",
   "metadata": {},
   "outputs": [],
   "source": [
    "import numpy as np\n",
    "import pandas as pd\n",
    "import os"
   ]
  },
  {
   "cell_type": "code",
   "execution_count": null,
   "id": "instructional-graham",
   "metadata": {},
   "outputs": [],
   "source": [
    "def import_data(filename):\n",
    "    base_path = ''\n",
    "    file = filename + '.csv'\n",
    "    file_path = os.path.join(base_path, file)\n",
    "    wig20_data = pd.read_csv(file_path)\n",
    "    return wig20_data\n",
    "wig20 = import_data('WIG20_data')"
   ]
  },
  {
   "cell_type": "code",
   "execution_count": null,
   "id": "mechanical-attention",
   "metadata": {},
   "outputs": [],
   "source": []
  },
  {
   "cell_type": "code",
   "execution_count": null,
   "id": "going-affiliation",
   "metadata": {},
   "outputs": [],
   "source": []
  }
 ],
 "metadata": {
  "kernelspec": {
   "display_name": "Python 3",
   "language": "python",
   "name": "python3"
  },
  "language_info": {
   "codemirror_mode": {
    "name": "ipython",
    "version": 3
   },
   "file_extension": ".py",
   "mimetype": "text/x-python",
   "name": "python",
   "nbconvert_exporter": "python",
   "pygments_lexer": "ipython3",
   "version": "3.9.1"
  }
 },
 "nbformat": 4,
 "nbformat_minor": 5
}
