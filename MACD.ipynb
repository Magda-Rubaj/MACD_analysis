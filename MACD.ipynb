{
 "cells": [
  {
   "cell_type": "code",
   "execution_count": null,
   "id": "curious-darwin",
   "metadata": {},
   "outputs": [],
   "source": [
    "import pandas as pd\n",
    "from macd import *\n",
    "from simulation import Simulation\n",
    "import os"
   ]
  },
  {
   "cell_type": "code",
   "execution_count": null,
   "id": "instructional-graham",
   "metadata": {},
   "outputs": [],
   "source": [
    "def import_data(filename):\n",
    "    base_path = ''\n",
    "    file = filename + '.csv'\n",
    "    file_path = os.path.join(base_path, file)\n",
    "    wig20_data = pd.read_csv(file_path)\n",
    "    \n",
    "    wig20_data['Max.'] = wig20_data['Max.'].str.replace('.','')\n",
    "    wig20_data['Max.'] = wig20_data['Max.'].str.replace(',','.').astype(float)\n",
    "    \n",
    "    wig20_data['Min.'] = wig20_data['Min.'].str.replace('.','')\n",
    "    wig20_data['Min.'] = wig20_data['Min.'].str.replace(',','.').astype(float)\n",
    "    \n",
    "    wig20_data['Otwarcie'] = wig20_data['Otwarcie'].str.replace('.','')\n",
    "    wig20_data['Otwarcie'] = wig20_data['Otwarcie'].str.replace(',','.').astype(float)\n",
    "    \n",
    "    wig20_data['Ostatnio'] = wig20_data['Ostatnio'].str.replace('.','')\n",
    "    wig20_data['Ostatnio'] = wig20_data['Ostatnio'].str.replace(',','.').astype(float)\n",
    "    \n",
    "    wig20_data['Data'] = pd.to_datetime(wig20_data['Data'],format='%d.%m.%Y')\n",
    "    \n",
    "    wig20_data = wig20_data[::-1]\n",
    "\n",
    "    list_data = wig20_data['Ostatnio']\n",
    "    list_data = pd.Series.tolist(list_data)\n",
    "    return wig20_data, list_data\n",
    " \n"
   ]
  },
  {
   "cell_type": "code",
   "execution_count": null,
   "id": "pregnant-crawford",
   "metadata": {},
   "outputs": [],
   "source": [
    "wig20, list_data = import_data('WIG20_data')\n",
    "\n",
    "money_amount = 1000\n",
    "macd = calculate_MACD(list_data)\n",
    "signal = calculate_signal(macd)\n",
    "simulator = Simulation(money_amount, macd[8:len(macd)], signal)\n",
    "simulator.macd_transactions(0.3, list_data[33:len(list_data)],36)"
   ]
  },
  {
   "cell_type": "code",
   "execution_count": null,
   "id": "instant-innocent",
   "metadata": {},
   "outputs": [],
   "source": [
    "wig20_copy = wig20[33:].copy().reset_index(drop=True)\n",
    "plot_data(300,550, macd[8:], signal, wig20_copy)"
   ]
  },
  {
   "cell_type": "code",
   "execution_count": null,
   "id": "urban-dryer",
   "metadata": {},
   "outputs": [],
   "source": []
  }
 ],
 "metadata": {
  "kernelspec": {
   "display_name": "Python 3",
   "language": "python",
   "name": "python3"
  },
  "language_info": {
   "codemirror_mode": {
    "name": "ipython",
    "version": 3
   },
   "file_extension": ".py",
   "mimetype": "text/x-python",
   "name": "python",
   "nbconvert_exporter": "python",
   "pygments_lexer": "ipython3",
   "version": "3.8.8"
  }
 },
 "nbformat": 4,
 "nbformat_minor": 5
}
