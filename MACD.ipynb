{
 "cells": [
  {
   "cell_type": "code",
   "execution_count": null,
   "id": "curious-darwin",
   "metadata": {},
   "outputs": [],
   "source": [
    "import pandas as pd\n",
    "from macd import *\n",
    "import os"
   ]
  },
  {
   "cell_type": "code",
   "execution_count": null,
   "id": "instructional-graham",
   "metadata": {},
   "outputs": [],
   "source": [
    "def import_data(filename):\n",
    "    base_path = ''\n",
    "    file = filename + '.csv'\n",
    "    file_path = os.path.join(base_path, file)\n",
    "    wig20_data = pd.read_csv(file_path)\n",
    "    dates = wig20_data.iloc[:,0]\n",
    "    dates = pd.Series.tolist(dates)\n",
    "    wig20_data = wig20_data.iloc[:,1]\n",
    "    wig20_data = wig20_data.str.replace('.','')\n",
    "    wig20_data = wig20_data.str.replace(',','.').astype(float)\n",
    "    wig20_data = pd.Series.tolist(wig20_data)\n",
    "    wig20_data.reverse()\n",
    "    return wig20_data, dates\n"
   ]
  }
 ],
 "metadata": {
  "kernelspec": {
   "display_name": "Python 3",
   "language": "python",
   "name": "python3"
  },
  "language_info": {
   "codemirror_mode": {
    "name": "ipython",
    "version": 3
   },
   "file_extension": ".py",
   "mimetype": "text/x-python",
   "name": "python",
   "nbconvert_exporter": "python",
   "pygments_lexer": "ipython3",
   "version": "3.9.1"
  }
 },
 "nbformat": 4,
 "nbformat_minor": 5
}
