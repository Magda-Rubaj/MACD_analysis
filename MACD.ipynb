{
 "cells": [
  {
   "cell_type": "code",
   "execution_count": null,
   "id": "curious-darwin",
   "metadata": {},
   "outputs": [],
   "source": [
    "import numpy as np\n",
    "import pandas as pd\n",
    "import os"
   ]
  },
  {
   "cell_type": "code",
   "execution_count": null,
   "id": "instructional-graham",
   "metadata": {},
   "outputs": [],
   "source": [
    "def import_data(filename):\n",
    "    base_path = ''\n",
    "    file = filename + '.csv'\n",
    "    file_path = os.path.join(base_path, file)\n",
    "    wig20_data = pd.read_csv(file_path)\n",
    "    wig20_data = wig20_data.iloc[:,1]\n",
    "    wig20_data = wig20_data.str.replace('.','')\n",
    "    wig20_data = wig20_data.str.replace(',','.').astype(float)\n",
    "    wig20_data = pd.Series.tolist(wig20_data)\n",
    "    return wig20_data\n"
   ]
  },
  {
   "cell_type": "code",
   "execution_count": null,
   "id": "mechanical-attention",
   "metadata": {},
   "outputs": [],
   "source": [
    "def calculate_EMA(N, data, current_day):\n",
    "    alpha = 2/(N+1)\n",
    "    p = data[current_day+N:current_day:-1]\n",
    "    sum_top = 0\n",
    "    sum_bottom = 0\n",
    "    for i in range(len(p)):\n",
    "        sum_top += p[i] * ((1-alpha) ** i)\n",
    "        sum_bottom += (1-alpha) ** i\n",
    "    EMA = sum_top / sum_bottom  \n",
    "    return EMA\n"
   ]
  },
  {
   "cell_type": "code",
   "execution_count": null,
   "id": "going-affiliation",
   "metadata": {},
   "outputs": [],
   "source": [
    "def calculate_MACD_element(data, current_day):\n",
    "    EMA12 = calculate_EMA(12, data, current_day)\n",
    "    EMA26 = calculate_EMA(26, data, current_day)\n",
    "    macd = EMA12 - EMA26\n",
    "    return macd\n",
    "\n",
    "def calculate_MACD(data):\n",
    "    MACD = []\n",
    "    for i in range(len(data)-25, -1, -1):\n",
    "        x = calculate_MACD_element(data, i)\n",
    "        MACD.append(x)\n",
    "    return MACD"
   ]
  },
  {
   "cell_type": "code",
   "execution_count": null,
   "id": "structured-jacket",
   "metadata": {},
   "outputs": [],
   "source": [
    "def calculate_signal_element(data, current_day):\n",
    "    ema9 = calculate_EMA(9, data, current_day)\n",
    "    return ema9\n",
    "\n",
    "def calculate_signal(data):\n",
    "    SIGNAL = []\n",
    "    for i in range(len(data)-9):\n",
    "        x = calculate_signal_element(data, i)\n",
    "        SIGNAL.append(x)\n",
    "    return SIGNAL"
   ]
  },
  {
   "cell_type": "code",
   "execution_count": null,
   "id": "canadian-devil",
   "metadata": {},
   "outputs": [],
   "source": [
    "\n"
   ]
  },
  {
   "cell_type": "code",
   "execution_count": null,
   "id": "functional-savings",
   "metadata": {},
   "outputs": [],
   "source": []
  },
  {
   "cell_type": "code",
   "execution_count": null,
   "id": "greatest-partner",
   "metadata": {},
   "outputs": [],
   "source": []
  }
 ],
 "metadata": {
  "kernelspec": {
   "display_name": "Python 3",
   "language": "python",
   "name": "python3"
  },
  "language_info": {
   "codemirror_mode": {
    "name": "ipython",
    "version": 3
   },
   "file_extension": ".py",
   "mimetype": "text/x-python",
   "name": "python",
   "nbconvert_exporter": "python",
   "pygments_lexer": "ipython3",
   "version": "3.9.1"
  }
 },
 "nbformat": 4,
 "nbformat_minor": 5
}
